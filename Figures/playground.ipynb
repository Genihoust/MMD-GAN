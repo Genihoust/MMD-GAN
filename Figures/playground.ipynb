{
 "cells": [
  {
   "cell_type": "code",
   "execution_count": null,
   "metadata": {
    "collapsed": true
   },
   "outputs": [],
   "source": [
    "\"\"\"\n",
    "Normalized mutual information\n",
    "\"\"\"\n",
    "import tensorflow as tf\n",
    "import numpy as np\n",
    "from GeneralTools.graph_func import MySession\n",
    "\n",
    "num_x = 3000\n",
    "\n",
    "p_c_on_x = tf.tile(np.array([[1, 0, 0], [0, 1, 0], [0, 0, 1]], dtype=np.float32), [1000, 1])\n",
    "p_c_on_x = p_c_on_x + 1e-6\n",
    "# p_c_on_x = tf.random_uniform((num_x, 3), minval=1e-4, maxval=1.0)\n",
    "p_c_on_x = p_c_on_x / tf.reduce_sum(p_c_on_x, axis=1, keepdims=True)\n",
    "# p_y_on_x = tf.random_uniform((num_x, 2), minval=1e-4, maxval=1.0)\n",
    "# p_y_on_x = p_y_on_x / tf.reduce_sum(p_y_on_x, axis=1, keepdims=True)\n",
    "p_y_on_x = p_c_on_x\n",
    "\n",
    "p_y = tf.reduce_sum(p_y_on_x, axis=0, keepdims=True) / num_x  # 1-by-num_y\n",
    "h_y = -tf.reduce_sum(p_y * tf.math.log(p_y))\n",
    "p_c = tf.reduce_sum(p_c_on_x, axis=0) / num_x  # 1-by-num_c\n",
    "h_c = -tf.reduce_sum(p_c * tf.math.log(p_c))\n",
    "p_x_on_y = p_y_on_x / num_x / p_y  # num_x-by-num_y\n",
    "p_c_on_y = tf.matmul(p_c_on_x, p_x_on_y, transpose_a=True)  # num_c-by-num_y\n",
    "h_c_on_y = -tf.reduce_sum(tf.reduce_sum(p_c_on_y * tf.math.log(p_c_on_y), axis=0) * p_y)\n",
    "i_y_c = h_c - h_c_on_y\n",
    "nmi = 2 * i_y_c / (h_y + h_c)\n",
    "\n",
    "with MySession() as sess:\n",
    "    nmi, h_y, h_c, h_c_on_y = sess.run_once([nmi, h_y, h_c, h_c_on_y])\n",
    "    \n",
    "print(nmi)\n",
    "print([h_y, h_c, h_c_on_y])"
   ]
  },
  {
   "cell_type": "code",
   "execution_count": null,
   "metadata": {},
   "outputs": [],
   "source": [
    "\"\"\"\n",
    "Illustration of MMD loss\n",
    "\"\"\"\n",
    "import numpy as np\n",
    "import matplotlib.pyplot as plt\n",
    "\n",
    "do_plot = True\n",
    "\n",
    "# data\n",
    "xr = 0.15*np.random.randn(2, 6)  # N-by-1\n",
    "xg = 0.15*np.random.randn(2, 6)\n"
   ]
  },
  {
   "cell_type": "code",
   "execution_count": 85,
   "metadata": {},
   "outputs": [],
   "source": [
    "# plot\n",
    "if do_plot:\n",
    "    fig, ax = plt.subplots(1, 1, figsize=(6.4, 4.8))\n",
    "    plt.scatter(\n",
    "        xr[0], xr[1], marker='o', c='tab:gray', \n",
    "        s=40, linewidths=20, alpha=0.5)\n",
    "    plt.scatter(\n",
    "        xg[0], xg[1], marker='o', c='tab:red', \n",
    "        s=40, linewidths=20, alpha=0.5)\n",
    "    ax.legend(\n",
    "        ['R', 'G'], frameon=True, fontsize=15, labelspacing=1, borderpad=0.5)\n",
    "    plt.show()"
   ]
  },
  {
   "cell_type": "code",
   "execution_count": 141,
   "metadata": {
    "collapsed": true
   },
   "outputs": [
    {
     "name": "stdout",
     "output_type": "stream",
     "text": [
      "step 0, mmd -0.03920328617095947\nstep 30, mmd 0.025973975658416748\n"
     ]
    },
    {
     "name": "stdout",
     "output_type": "stream",
     "text": [
      "step 60, mmd 0.09224051237106323\nstep 90, mmd 0.16177546977996826\n"
     ]
    },
    {
     "name": "stdout",
     "output_type": "stream",
     "text": [
      "step 120, mmd 0.23458749055862427\n"
     ]
    },
    {
     "name": "stdout",
     "output_type": "stream",
     "text": [
      "step 150, mmd 0.3084554672241211\nstep 180, mmd 0.38008588552474976\n"
     ]
    },
    {
     "name": "stdout",
     "output_type": "stream",
     "text": [
      "step 210, mmd 0.446527898311615\nstep 240, mmd 0.5059857368469238\n"
     ]
    },
    {
     "name": "stdout",
     "output_type": "stream",
     "text": [
      "step 270, mmd 0.557883620262146\nstep 300, mmd 0.6025186777114868\n"
     ]
    },
    {
     "name": "stdout",
     "output_type": "stream",
     "text": [
      "step 330, mmd 0.6406514644622803\nstep 360, mmd 0.6732016801834106\n"
     ]
    },
    {
     "name": "stdout",
     "output_type": "stream",
     "text": [
      "step 390, mmd 0.7010701894760132\nstep 420, mmd 0.725059986114502\n"
     ]
    }
   ],
   "source": [
    "import tensorflow as tf\n",
    "from GeneralTools.math_func import matrix_mean_wo_diagonal\n",
    "from GeneralTools.graph_func import MySession\n",
    "\n",
    "max_step = 450\n",
    "lr = 1e-2\n",
    "query_step = 30\n",
    "do_plot = True\n",
    "mmd_plan = False\n",
    "folder = '/home/richard/Pictures/Tensorflow Screenshots/animation_mmd/'\n",
    "do_save = False\n",
    "\n",
    "\n",
    "def pd2(m1, m2):\n",
    "    \"\"\" squared pair-wise distance\n",
    "    \n",
    "    :param m1: 2-by-N1\n",
    "    :param m2: 2-by-N2\n",
    "    :return: \n",
    "    \"\"\"\n",
    "    aa = tf.reduce_sum(tf.multiply(m1, m1), axis=0, keepdims=True)  # 1-by-N1\n",
    "    bb = tf.reduce_sum(tf.multiply(m2, m2), axis=0, keepdims=True)  # 1-by-N2\n",
    "    ab = tf.matmul(m1, m2, transpose_a=True)  # N1-by-N2\n",
    "    \n",
    "    return tf.clip_by_value(\n",
    "        tf.transpose(aa, perm=(1, 0)) + bb - 2.0*ab, \n",
    "        clip_value_min=0.0, clip_value_max=10000.0)\n",
    "\n",
    "\n",
    "def kernel(m, sigma=1.0):\n",
    "    return tf.exp(-m/sigma)  # N1-by-N2\n",
    "\n",
    "\n",
    "def e_kernel(m):\n",
    "    ms = tf.cast(m.get_shape().as_list(), tf.float32)\n",
    "    return matrix_mean_wo_diagonal(m, ms[0], ms[1])\n",
    "\n",
    "\n",
    "with tf.Graph().as_default():\n",
    "    xr_tf = tf.Variable(xr, name='r', dtype=tf.float32)\n",
    "    xg_tf = tf.Variable(xg, name='g', dtype=tf.float32)\n",
    "    \n",
    "    d2r = pd2(xr_tf, xr_tf)\n",
    "    d2g = pd2(xg_tf, xg_tf)\n",
    "    d2rg = pd2(xr_tf, xg_tf)\n",
    "    kr = kernel(d2r, sigma=1.0)\n",
    "    kg = kernel(d2g, sigma=1.0)\n",
    "    krg = kernel(d2rg, sigma=1.0)\n",
    "    \n",
    "    if mmd_plan:\n",
    "        mmd_att = e_kernel(kr) + e_kernel(kg)\n",
    "        mmd_rep = - 2*e_kernel(krg)\n",
    "        \n",
    "        gr_att = tf.gradients(mmd_att, xr_tf)[0]\n",
    "        gg_att = tf.gradients(mmd_att, xg_tf)[0]\n",
    "        gr_rep = tf.gradients(mmd_rep, xr_tf)[0]\n",
    "        gg_rep = tf.gradients(mmd_rep, xg_tf)[0]\n",
    "    else:\n",
    "        mmd_att = e_kernel(kg)\n",
    "        mmd_rep = - e_kernel(kr)\n",
    "        \n",
    "        gr_att = tf.zeros([2, 6])\n",
    "        gg_att = tf.gradients(mmd_att, xg_tf)[0]\n",
    "        gr_rep = tf.gradients(mmd_rep, xr_tf)[0]\n",
    "        gg_rep = tf.zeros([2, 6])\n",
    "    \n",
    "    mmd = mmd_att + mmd_rep\n",
    "    gr = tf.gradients(mmd, xr_tf)[0]\n",
    "    gg = tf.gradients(mmd, xg_tf)[0]\n",
    "    lr = tf.constant(lr, dtype=tf.float32)\n",
    "    opr = tf.assign(xr_tf, xr_tf + gr*lr)\n",
    "    opg = tf.assign(xg_tf, xg_tf + gg*lr)\n",
    "    \n",
    "    sess = tf.Session()\n",
    "    init_op = tf.group(tf.global_variables_initializer(), tf.local_variables_initializer())\n",
    "    sess.run(init_op)\n",
    "    \n",
    "    fig_index = 0\n",
    "    for step in range(max_step):\n",
    "        _, _, mmd_np, xr_np, xg_np = sess.run(\n",
    "            [opr, opg, mmd, xr_tf, xg_tf])\n",
    "        \n",
    "        if step % query_step == 0:\n",
    "            print('step {}, mmd {}'.format(step, mmd_np))\n",
    "            if do_plot:\n",
    "                fig, ax = plt.subplots(1, 1, figsize=(6.4, 4.8))\n",
    "                plt.scatter(\n",
    "                    xr_np[0], xr_np[1], marker='o', c='tab:gray', \n",
    "                    s=40, linewidths=20, alpha=0.5)\n",
    "                plt.scatter(\n",
    "                    xg_np[0], xg_np[1], marker='o', c='tab:red', \n",
    "                    s=40, linewidths=20, alpha=0.5)\n",
    "                ax.legend(\n",
    "                    ['R', 'G'], frameon=True, fontsize=15, labelspacing=1, borderpad=0.5)\n",
    "                \n",
    "                gr_att_np, gg_att_np, gr_rep_np, gg_rep_np = sess.run(\n",
    "                    [gr_att/2.0, gg_att/2.0, gr_rep/2.0, gg_rep/2.0])\n",
    "                for i in range(xr_np.shape[1]):\n",
    "                    if mmd_plan:\n",
    "                        plt.arrow(\n",
    "                            xr_np[0, i], xr_np[1, i], gr_att_np[0, i], gr_att_np[1, i], \n",
    "                            color='tab:blue', width=0.01)\n",
    "                    plt.arrow(\n",
    "                        xr_np[0, i], xr_np[1, i], gr_rep_np[0, i], gr_rep_np[1, i], \n",
    "                        color='tab:orange', width=0.01)\n",
    "                for i in range(xg_np.shape[1]):\n",
    "                    plt.arrow(\n",
    "                        xg_np[0, i], xg_np[1, i], gg_att_np[0, i], gg_att_np[1, i], \n",
    "                        color='tab:blue', width=0.01)\n",
    "                    if mmd_plan:\n",
    "                        plt.arrow(\n",
    "                            xg_np[0, i], xg_np[1, i], gg_rep_np[0, i], gg_rep_np[1, i], \n",
    "                            color='tab:orange', width=0.01)\n",
    "                \n",
    "                _, _, _, _ = plt.axis([-1.0, 1.0, -1.0, 1.0])\n",
    "                \n",
    "                if do_save:\n",
    "                    fig_index = fig_index+1\n",
    "                    if mmd_plan:\n",
    "                        figurename = 'mmd_att_{:03d}.png'.format(fig_index)\n",
    "                    else:\n",
    "                        figurename = 'mmd_rep_{:03d}.png'.format(fig_index)\n",
    "                    plt.savefig(\n",
    "                        folder + figurename, format='png', bbox_inches='tight')\n",
    "                else:\n",
    "                    plt.show()\n",
    "        \n",
    "    sess.close()\n",
    "    plt.close('all')"
   ]
  },
  {
   "cell_type": "code",
   "execution_count": 117,
   "metadata": {},
   "outputs": [],
   "source": [
    ""
   ]
  },
  {
   "cell_type": "code",
   "execution_count": 142,
   "metadata": {
    "collapsed": true
   },
   "outputs": [
    {
     "name": "stdout",
     "output_type": "stream",
     "text": [
      "step 0, mmd 0.2750566601753235\n"
     ]
    },
    {
     "name": "stdout",
     "output_type": "stream",
     "text": [
      "step 10, mmd 0.273040235042572\nstep 20, mmd 0.2708194851875305\n"
     ]
    },
    {
     "name": "stdout",
     "output_type": "stream",
     "text": [
      "step 30, mmd 0.26836615800857544\nstep 40, mmd 0.2656477689743042\n"
     ]
    },
    {
     "name": "stdout",
     "output_type": "stream",
     "text": [
      "step 50, mmd 0.2626284956932068\n"
     ]
    },
    {
     "name": "stdout",
     "output_type": "stream",
     "text": [
      "step 60, mmd 0.2592681646347046\n"
     ]
    },
    {
     "name": "stdout",
     "output_type": "stream",
     "text": [
      "step 70, mmd 0.25552308559417725\nstep 80, mmd 0.25134408473968506\n"
     ]
    },
    {
     "name": "stdout",
     "output_type": "stream",
     "text": [
      "step 90, mmd 0.24667847156524658\nstep 100, mmd 0.24146902561187744\n"
     ]
    },
    {
     "name": "stdout",
     "output_type": "stream",
     "text": [
      "step 110, mmd 0.23565423488616943\n"
     ]
    },
    {
     "name": "stdout",
     "output_type": "stream",
     "text": [
      "step 120, mmd 0.2291703224182129\nstep 130, mmd 0.22195005416870117\n"
     ]
    },
    {
     "name": "stdout",
     "output_type": "stream",
     "text": [
      "step 140, mmd 0.21392643451690674\nstep 150, mmd 0.2050337791442871\n"
     ]
    },
    {
     "name": "stdout",
     "output_type": "stream",
     "text": [
      "step 160, mmd 0.19520938396453857\nstep 170, mmd 0.18439805507659912\n"
     ]
    },
    {
     "name": "stdout",
     "output_type": "stream",
     "text": [
      "step 180, mmd 0.172554612159729\nstep 190, mmd 0.15964794158935547\n"
     ]
    },
    {
     "name": "stdout",
     "output_type": "stream",
     "text": [
      "step 200, mmd 0.14566540718078613\nstep 210, mmd 0.13061630725860596\n"
     ]
    },
    {
     "name": "stdout",
     "output_type": "stream",
     "text": [
      "step 220, mmd 0.11453545093536377\nstep 230, mmd 0.09748494625091553\n"
     ]
    },
    {
     "name": "stdout",
     "output_type": "stream",
     "text": [
      "step 240, mmd 0.07955563068389893\nstep 250, mmd 0.06086623668670654\n"
     ]
    },
    {
     "name": "stdout",
     "output_type": "stream",
     "text": [
      "step 260, mmd 0.04156064987182617\nstep 270, mmd 0.021802783012390137\n"
     ]
    },
    {
     "name": "stdout",
     "output_type": "stream",
     "text": [
      "step 280, mmd 0.001771688461303711\nstep 290, mmd -0.01834738254547119\n"
     ]
    },
    {
     "name": "stdout",
     "output_type": "stream",
     "text": [
      "step 300, mmd -0.038369596004486084\nstep 310, mmd -0.058117568492889404\n"
     ]
    },
    {
     "name": "stdout",
     "output_type": "stream",
     "text": [
      "step 320, mmd -0.07742863893508911\nstep 330, mmd -0.09616035223007202\n"
     ]
    },
    {
     "name": "stdout",
     "output_type": "stream",
     "text": [
      "step 340, mmd -0.11419302225112915\nstep 350, mmd -0.13143134117126465\n"
     ]
    },
    {
     "name": "stdout",
     "output_type": "stream",
     "text": [
      "step 360, mmd -0.14780592918395996\nstep 370, mmd -0.16327130794525146\n"
     ]
    },
    {
     "name": "stdout",
     "output_type": "stream",
     "text": [
      "step 380, mmd -0.1778031587600708\nstep 390, mmd -0.19139736890792847\n"
     ]
    },
    {
     "name": "stdout",
     "output_type": "stream",
     "text": [
      "step 400, mmd -0.20406442880630493\nstep 410, mmd -0.2158282995223999\n"
     ]
    },
    {
     "name": "stdout",
     "output_type": "stream",
     "text": [
      "step 420, mmd -0.22672319412231445\nstep 430, mmd -0.23678970336914062\n"
     ]
    },
    {
     "name": "stdout",
     "output_type": "stream",
     "text": [
      "step 440, mmd -0.24607348442077637\nstep 450, mmd -0.2546231746673584\n"
     ]
    },
    {
     "name": "stdout",
     "output_type": "stream",
     "text": [
      "step 460, mmd -0.26248806715011597\nstep 470, mmd -0.2697175145149231\n"
     ]
    },
    {
     "name": "stdout",
     "output_type": "stream",
     "text": [
      "step 480, mmd -0.27636003494262695\nstep 490, mmd -0.28246253728866577\n"
     ]
    },
    {
     "name": "stdout",
     "output_type": "stream",
     "text": [
      "step 500, mmd -0.288068950176239\nstep 510, mmd -0.293221116065979\n"
     ]
    },
    {
     "name": "stdout",
     "output_type": "stream",
     "text": [
      "step 520, mmd -0.29795849323272705\nstep 530, mmd -0.30231690406799316\n"
     ]
    },
    {
     "name": "stdout",
     "output_type": "stream",
     "text": [
      "step 540, mmd -0.3063305616378784\nstep 550, mmd -0.31002992391586304\n"
     ]
    },
    {
     "name": "stdout",
     "output_type": "stream",
     "text": [
      "step 560, mmd -0.31344348192214966\nstep 570, mmd -0.31659698486328125\n"
     ]
    },
    {
     "name": "stdout",
     "output_type": "stream",
     "text": [
      "step 580, mmd -0.31951409578323364\nstep 590, mmd -0.32221633195877075\n"
     ]
    },
    {
     "name": "stdout",
     "output_type": "stream",
     "text": [
      "step 600, mmd -0.3247230648994446\nstep 610, mmd -0.32705211639404297\n"
     ]
    },
    {
     "name": "stdout",
     "output_type": "stream",
     "text": [
      "step 620, mmd -0.3292192816734314\nstep 630, mmd -0.3312390446662903\n"
     ]
    },
    {
     "name": "stdout",
     "output_type": "stream",
     "text": [
      "step 640, mmd -0.33312493562698364\nstep 650, mmd -0.33488816022872925\n"
     ]
    },
    {
     "name": "stdout",
     "output_type": "stream",
     "text": [
      "step 660, mmd -0.33653998374938965\nstep 670, mmd -0.3380897641181946\n"
     ]
    },
    {
     "name": "stdout",
     "output_type": "stream",
     "text": [
      "step 680, mmd -0.3395463228225708\nstep 690, mmd -0.34091752767562866\n"
     ]
    },
    {
     "name": "stdout",
     "output_type": "stream",
     "text": [
      "step 700, mmd -0.34221047163009644\nstep 710, mmd -0.34343141317367554\n"
     ]
    },
    {
     "name": "stdout",
     "output_type": "stream",
     "text": [
      "step 720, mmd -0.34458643198013306\n"
     ]
    },
    {
     "name": "stdout",
     "output_type": "stream",
     "text": [
      "step 730, mmd -0.34568071365356445\nstep 740, mmd -0.3467187285423279\n"
     ]
    },
    {
     "name": "stdout",
     "output_type": "stream",
     "text": [
      "step 750, mmd -0.3477051258087158\nstep 760, mmd -0.34864336252212524\n"
     ]
    },
    {
     "name": "stdout",
     "output_type": "stream",
     "text": [
      "step 770, mmd -0.34953737258911133\nstep 780, mmd -0.3503899574279785\n"
     ]
    },
    {
     "name": "stdout",
     "output_type": "stream",
     "text": [
      "step 790, mmd -0.3512040972709656\nstep 800, mmd -0.3519825339317322\n"
     ]
    },
    {
     "name": "stdout",
     "output_type": "stream",
     "text": [
      "step 810, mmd -0.35272741317749023\nstep 820, mmd -0.3534409999847412\n"
     ]
    },
    {
     "name": "stdout",
     "output_type": "stream",
     "text": [
      "step 830, mmd -0.3541252017021179\nstep 840, mmd -0.3547818660736084\n"
     ]
    },
    {
     "name": "stdout",
     "output_type": "stream",
     "text": [
      "step 850, mmd -0.3554123044013977\nstep 860, mmd -0.3560183048248291\n"
     ]
    },
    {
     "name": "stdout",
     "output_type": "stream",
     "text": [
      "step 870, mmd -0.35660111904144287\nstep 880, mmd -0.3571620583534241\n"
     ]
    },
    {
     "name": "stdout",
     "output_type": "stream",
     "text": [
      "step 890, mmd -0.3577020764350891\nstep 900, mmd -0.35822224617004395\n"
     ]
    },
    {
     "name": "stdout",
     "output_type": "stream",
     "text": [
      "step 910, mmd -0.3587237596511841\nstep 920, mmd -0.3592072129249573\n"
     ]
    },
    {
     "name": "stdout",
     "output_type": "stream",
     "text": [
      "step 930, mmd -0.3596736192703247\nstep 940, mmd -0.3601234555244446\n"
     ]
    },
    {
     "name": "stdout",
     "output_type": "stream",
     "text": [
      "step 950, mmd -0.3605577349662781\nstep 960, mmd -0.3609771132469177\n"
     ]
    },
    {
     "name": "stdout",
     "output_type": "stream",
     "text": [
      "step 970, mmd -0.36138200759887695\nstep 980, mmd -0.3617730736732483\n"
     ]
    },
    {
     "name": "stdout",
     "output_type": "stream",
     "text": [
      "step 990, mmd -0.3621508479118347\nstep 1000, mmd -0.36251574754714966\n"
     ]
    },
    {
     "name": "stdout",
     "output_type": "stream",
     "text": [
      "step 1010, mmd -0.36286842823028564\nstep 1020, mmd -0.36320942640304565\n"
     ]
    },
    {
     "name": "stdout",
     "output_type": "stream",
     "text": [
      "step 1030, mmd -0.36353886127471924\nstep 1040, mmd -0.36385732889175415\n"
     ]
    },
    {
     "name": "stdout",
     "output_type": "stream",
     "text": [
      "step 1050, mmd -0.36416512727737427\nstep 1060, mmd -0.3644627332687378\n"
     ]
    },
    {
     "name": "stdout",
     "output_type": "stream",
     "text": [
      "step 1070, mmd -0.36475056409835815\nstep 1080, mmd -0.3650286793708801\n"
     ]
    },
    {
     "name": "stdout",
     "output_type": "stream",
     "text": [
      "step 1090, mmd -0.36529773473739624\nstep 1100, mmd -0.36555778980255127\n"
     ]
    },
    {
     "name": "stdout",
     "output_type": "stream",
     "text": [
      "step 1110, mmd -0.3658093810081482\nstep 1120, mmd -0.3660525679588318\n"
     ]
    },
    {
     "name": "stdout",
     "output_type": "stream",
     "text": [
      "step 1130, mmd -0.3662877082824707\nstep 1140, mmd -0.3665151000022888\n"
     ]
    },
    {
     "name": "stdout",
     "output_type": "stream",
     "text": [
      "step 1150, mmd -0.3667351007461548\nstep 1160, mmd -0.36694765090942383\n"
     ]
    },
    {
     "name": "stdout",
     "output_type": "stream",
     "text": [
      "step 1170, mmd -0.3671532869338989\nstep 1180, mmd -0.3673522472381592\n"
     ]
    },
    {
     "name": "stdout",
     "output_type": "stream",
     "text": [
      "step 1190, mmd -0.36754459142684937\n"
     ]
    }
   ],
   "source": [
    "max_step = 1200\n",
    "lr = 1e-2\n",
    "query_step = 10\n",
    "folder = '/home/richard/Pictures/Tensorflow Screenshots/animation_mmd/'\n",
    "do_save = True\n",
    "\n",
    "with tf.Graph().as_default():\n",
    "    xr_tf = tf.Variable(xr_np, name='r', dtype=tf.float32)\n",
    "    xg_tf = tf.Variable(xg_np, name='g', dtype=tf.float32)\n",
    "    \n",
    "    d2r = pd2(xr_tf, xr_tf)\n",
    "    d2g = pd2(xg_tf, xg_tf)\n",
    "    d2rg = pd2(xr_tf, xg_tf)\n",
    "    kr = kernel(d2r, sigma=1.0)\n",
    "    kg = kernel(d2g, sigma=1.0)\n",
    "    krg = kernel(d2rg, sigma=1.0)\n",
    "    \n",
    "    mmd_att = e_kernel(kr) + e_kernel(kg)\n",
    "    mmd_rep = - 2*e_kernel(krg)\n",
    "    \n",
    "    gg_att = tf.gradients(mmd_att, xg_tf)[0]\n",
    "    gg_rep = tf.gradients(mmd_rep, xg_tf)[0]\n",
    "    \n",
    "    mmd = mmd_att + mmd_rep\n",
    "    gg = tf.gradients(mmd, xg_tf)[0]\n",
    "    lr = tf.constant(lr, dtype=tf.float32)\n",
    "    opg = tf.assign(xg_tf, xg_tf - gg*lr)\n",
    "    \n",
    "    sess = tf.Session()\n",
    "    init_op = tf.group(tf.global_variables_initializer(), tf.local_variables_initializer())\n",
    "    sess.run(init_op)\n",
    "    \n",
    "    fig_index = 0\n",
    "    for step in range(max_step):\n",
    "        _, mmd_np2, xr_np2, xg_np2 = sess.run(\n",
    "            [opg, mmd, xr_tf, xg_tf])\n",
    "        \n",
    "        if step % query_step == 0:\n",
    "            print('step {}, mmd {}'.format(step, mmd_np2))\n",
    "            if do_plot:\n",
    "                fig, ax = plt.subplots(1, 1, figsize=(6.4, 4.8))\n",
    "                plt.scatter(\n",
    "                    xr_np2[0], xr_np2[1], marker='o', c='tab:gray', \n",
    "                    s=40, linewidths=20, alpha=0.5)\n",
    "                plt.scatter(\n",
    "                    xg_np2[0], xg_np2[1], marker='o', c='tab:red', \n",
    "                    s=40, linewidths=20, alpha=0.5)\n",
    "                ax.legend(\n",
    "                    ['R', 'G'], loc='upper left', frameon=True, fontsize=15, labelspacing=1, borderpad=0.5)\n",
    "                \n",
    "                gg_att_np, gg_rep_np = sess.run(\n",
    "                    [gg_att/2.0, gg_rep/2.0])\n",
    "                for i in range(xg_np2.shape[1]):\n",
    "                    plt.arrow(\n",
    "                        xg_np2[0, i], xg_np2[1, i], -gg_att_np[0, i], -gg_att_np[1, i], \n",
    "                        color='tab:orange', width=0.01)\n",
    "                    plt.arrow(\n",
    "                        xg_np2[0, i], xg_np2[1, i], -gg_rep_np[0, i], -gg_rep_np[1, i], \n",
    "                        color='tab:blue', width=0.01)\n",
    "                \n",
    "                _, _, _, _ = plt.axis([-1.0, 1.0, -1.0, 1.0])\n",
    "                \n",
    "                if do_save:\n",
    "                    fig_index = fig_index+1\n",
    "                    if mmd_plan:\n",
    "                        figurename = 'g_mmd_att_{:03d}.png'.format(fig_index)\n",
    "                    else:\n",
    "                        figurename = 'g_mmd_rep_{:03d}.png'.format(fig_index)\n",
    "                    plt.savefig(\n",
    "                        folder + figurename, format='png', bbox_inches='tight')\n",
    "                else:\n",
    "                    plt.show()\n",
    "                    \n",
    "    sess.close()\n",
    "    plt.close('all')\n",
    "    "
   ]
  },
  {
   "cell_type": "code",
   "execution_count": 1,
   "metadata": {},
   "outputs": [
    {
     "name": "stdout",
     "output_type": "stream",
     "text": [
      "[1.0086658, 1.0086659, 1.0086659]\n"
     ]
    }
   ],
   "source": [
    "\"\"\"\n",
    "Test of MMD loss for classification\n",
    "\"\"\"\n",
    "import tensorflow as tf\n",
    "from GeneralTools.math_func import multiclass_mmd_g\n",
    "from GeneralTools.input_func import SimData\n",
    "\n",
    "\n",
    "with tf.Graph().as_default():\n",
    "    # data\n",
    "    p = SimData('shell2', batch_size=64)\n",
    "    x = p.next_batch()\n"
   ]
  },
  {
   "cell_type": "code",
   "execution_count": 5,
   "metadata": {},
   "outputs": [
    {
     "name": "stdout",
     "output_type": "stream",
     "text": [
      "Adam Optimizer is used.\n"
     ]
    },
    {
     "name": "stdout",
     "output_type": "stream",
     "text": [
      "mmd: 1.588876485824585\nmmd: 7.4848127365112305\n"
     ]
    },
    {
     "name": "stdout",
     "output_type": "stream",
     "text": [
      "mmd: 8.526334762573242\nmmd: 8.378314971923828\nmmd: 9.896876335144043\n"
     ]
    },
    {
     "name": "stdout",
     "output_type": "stream",
     "text": [
      "mmd: 9.749398231506348\n"
     ]
    },
    {
     "name": "stdout",
     "output_type": "stream",
     "text": [
      "mmd: 9.138945579528809\n"
     ]
    },
    {
     "name": "stdout",
     "output_type": "stream",
     "text": [
      "mmd: 10.18325424194336\n"
     ]
    },
    {
     "name": "stdout",
     "output_type": "stream",
     "text": [
      "mmd: 10.5354585647583\nmmd: 10.443592071533203\n"
     ]
    }
   ],
   "source": [
    "import tensorflow as tf\n",
    "import numpy as np\n",
    "from GeneralTools.graph_func import opt_config, global_step_config\n",
    "from GeneralTools.input_func import Spirals\n",
    "from GeneralTools.layer_func import Net, Routine\n",
    "from GeneralTools.math_func import multiclass_mmd_g, get_squared_dist\n",
    "\n",
    "batch_size = 64\n",
    "probs = [0.1, 0.2, 0.3, 0.4]\n",
    "mu = np.array([[3.0, 3.0], [3.0, -3.0], [-3.0, -3.0], [-3.0, 3.0]], dtype=np.float32)\n",
    "lr = 1e-3\n",
    "max_step = 1000\n",
    "query_step = 100\n",
    "\n",
    "with tf.Graph().as_default():\n",
    "    # input data\n",
    "    data_distribution = Spirals(4, 2.5, scale=0.25, sigma=1.0)\n",
    "    samples, labels = data_distribution.sample(batch_size)\n",
    "    \n",
    "    # network\n",
    "    architecture = [{'name': 'l1', 'out': 10, 'op': 'd', 'act': 'lrelu'}, \n",
    "                    {'name': 'l2', 'out': 10, 'op': 'd', 'act': 'lrelu'}, \n",
    "                    {'name': 'l3', 'out': 2, 'op': 'd', 'act': 'linear'}]\n",
    "    net = Net(architecture, net_name='classifier')\n",
    "    model = Routine(net)\n",
    "    model.add_input_layers([64, 2])\n",
    "    model.seq_links()\n",
    "    model.add_output_layers()\n",
    "    \n",
    "    # apply network\n",
    "    data_batch = {'x': samples, 'y': labels}\n",
    "    out = model(data_batch, is_training=True)\n",
    "    codes = out['x']\n",
    "    \n",
    "    # calculate loss\n",
    "    dist_zz = get_squared_dist(codes, mode='xx')\n",
    "    mmd = multiclass_mmd_g(dist_zz, labels, batch_size, num_class=4, sigma=2.0)\n",
    "    \n",
    "    # define optimization process\n",
    "    global_step = global_step_config()\n",
    "    _, opt_op = opt_config(lr, optimizer='adam')\n",
    "    op = opt_op.minimize(-mmd, global_step)\n",
    "    \n",
    "    with tf.Session() as sess:\n",
    "        init_op = tf.group(tf.global_variables_initializer(), tf.local_variables_initializer())\n",
    "        sess.run(init_op)\n",
    "    \n",
    "        for step in range(max_step):\n",
    "            _, z, y, loss = sess.run([op, codes, labels, mmd])\n",
    "            \n",
    "            if step % query_step == 0:\n",
    "                print('mmd: {}'.format(loss))\n"
   ]
  },
  {
   "cell_type": "code",
   "execution_count": 7,
   "metadata": {},
   "outputs": [],
   "source": [
    "import matplotlib.pyplot as plt\n",
    "\n",
    "fig, ax = plt.subplots(1, 1, figsize=(6.4, 4.8))\n",
    "colors = ['tab:blue', 'tab:orange', 'tab:green', 'tab:red', \n",
    "          'tab:purple', 'tab:brown', 'tab:pink', 'tab:gray', \n",
    "          'tab:olive', 'tab:cyan']\n",
    "z_colors = [colors[i[0]] for i in y]\n",
    "plt.scatter(\n",
    "    z[:, 0], z[:, 1], c=z_colors)\n",
    "plt.show()\n"
   ]
  },
  {
   "cell_type": "code",
   "execution_count": 11,
   "metadata": {
    "collapsed": true
   },
   "outputs": [
    {
     "name": "stdout",
     "output_type": "stream",
     "text": [
      "Graph initialization finished...\nNo ckpt model is loaded for current calculation.\nSession finished.\n"
     ]
    }
   ],
   "source": [
    "import tensorflow as tf\n",
    "import numpy as np\n",
    "from GeneralTools.input_func import Spirals\n",
    "from GeneralTools.graph_func import MySession\n",
    "import matplotlib.pyplot as plt\n",
    "\n",
    "n_points = 4000\n",
    "data = Spirals(4, 2.5, scale=0.25, sigma=1.0)\n",
    "x, y = data.sample(n_points)\n",
    "\n",
    "with MySession() as sess:\n",
    "    x, y = sess.run([x, y])\n",
    "\n",
    "y = np.squeeze(y, axis=1)\n",
    "fig, ax = plt.subplots(1, 1, figsize=(6.4, 4.8))\n",
    "plt.plot(x[y == 0, 0], x[y == 0, 1], '.', label='class 1')\n",
    "plt.plot(x[y == 1, 0], x[y == 1, 1], '.', label='class 2')\n",
    "plt.plot(x[y == 2, 0], x[y == 2, 1], '.', label='class 3')\n",
    "plt.plot(x[y == 3, 0], x[y == 3, 1], '.', label='class 4')\n",
    "plt.legend()\n",
    "plt.show()\n"
   ]
  },
  {
   "cell_type": "code",
   "execution_count": null,
   "metadata": {},
   "outputs": [],
   "source": []
  }
 ],
 "metadata": {
  "kernelspec": {
   "display_name": "Python 2",
   "language": "python",
   "name": "python2"
  },
  "language_info": {
   "codemirror_mode": {
    "name": "ipython",
    "version": 2
   },
   "file_extension": ".py",
   "mimetype": "text/x-python",
   "name": "python",
   "nbconvert_exporter": "python",
   "pygments_lexer": "ipython2",
   "version": "2.7.6"
  }
 },
 "nbformat": 4,
 "nbformat_minor": 0
}
